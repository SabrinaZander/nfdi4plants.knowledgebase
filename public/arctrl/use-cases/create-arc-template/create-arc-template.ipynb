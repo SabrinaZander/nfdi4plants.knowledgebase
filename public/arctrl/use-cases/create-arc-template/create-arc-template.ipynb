{
 "cells": [
  {
   "cell_type": "code",
   "execution_count": 3,
   "id": "831866ea",
   "metadata": {},
   "outputs": [
    {
     "ename": "RuntimeError",
     "evalue": "asyncio.run() cannot be called from a running event loop",
     "output_type": "error",
     "traceback": [
      "\u001b[31m---------------------------------------------------------------------------\u001b[39m",
      "\u001b[31mRuntimeError\u001b[39m                              Traceback (most recent call last)",
      "\u001b[36mCell\u001b[39m\u001b[36m \u001b[39m\u001b[32mIn[3]\u001b[39m\u001b[32m, line 66\u001b[39m\n\u001b[32m     62\u001b[39m arc = ARC( isa = inv )\n\u001b[32m     64\u001b[39m \u001b[38;5;66;03m# Write ARC to path\u001b[39;00m\n\u001b[32m---> \u001b[39m\u001b[32m66\u001b[39m \u001b[43marc\u001b[49m\u001b[43m.\u001b[49m\u001b[43mWrite\u001b[49m\u001b[43m(\u001b[49m\u001b[33;43m\"\u001b[39;49m\u001b[33;43mtest\u001b[39;49m\u001b[33;43m\"\u001b[39;49m\u001b[43m)\u001b[49m\n",
      "\u001b[36mFile \u001b[39m\u001b[32m~/miniconda3/lib/python3.12/site-packages/arctrl/arc.py:528\u001b[39m, in \u001b[36mARC.Write\u001b[39m\u001b[34m(self, arc_path)\u001b[39m\n\u001b[32m    526\u001b[39m \u001b[38;5;28;01mdef\u001b[39;00m \u001b[34mWrite\u001b[39m(\u001b[38;5;28mself\u001b[39m, arc_path: \u001b[38;5;28mstr\u001b[39m) -> \u001b[38;5;28;01mNone\u001b[39;00m:\n\u001b[32m    527\u001b[39m     this: ARC = \u001b[38;5;28mself\u001b[39m\n\u001b[32m--> \u001b[39m\u001b[32m528\u001b[39m     \u001b[43mrun_synchronously\u001b[49m\u001b[43m(\u001b[49m\u001b[43mthis\u001b[49m\u001b[43m.\u001b[49m\u001b[43mWriteAsync\u001b[49m\u001b[43m(\u001b[49m\u001b[43marc_path\u001b[49m\u001b[43m)\u001b[49m\u001b[43m)\u001b[49m\n",
      "\u001b[36mFile \u001b[39m\u001b[32m~/miniconda3/lib/python3.12/site-packages/arctrl/fable_modules/fable_library/async_.py:355\u001b[39m, in \u001b[36mrun_synchronously\u001b[39m\u001b[34m(computation, cancellation_token)\u001b[39m\n\u001b[32m    352\u001b[39m \u001b[38;5;28;01masync\u001b[39;00m \u001b[38;5;28;01mdef\u001b[39;00m \u001b[34mrunner\u001b[39m() -> _T | \u001b[38;5;28;01mNone\u001b[39;00m:\n\u001b[32m    353\u001b[39m     \u001b[38;5;28;01mreturn\u001b[39;00m \u001b[38;5;28;01mawait\u001b[39;00m start_as_task(computation, cancellation_token=cancellation_token)\n\u001b[32m--> \u001b[39m\u001b[32m355\u001b[39m \u001b[38;5;28;01mreturn\u001b[39;00m \u001b[43masyncio\u001b[49m\u001b[43m.\u001b[49m\u001b[43mrun\u001b[49m\u001b[43m(\u001b[49m\u001b[43mrunner\u001b[49m\u001b[43m(\u001b[49m\u001b[43m)\u001b[49m\u001b[43m)\u001b[49m\n",
      "\u001b[36mFile \u001b[39m\u001b[32m~/miniconda3/lib/python3.12/asyncio/runners.py:191\u001b[39m, in \u001b[36mrun\u001b[39m\u001b[34m(main, debug, loop_factory)\u001b[39m\n\u001b[32m    161\u001b[39m \u001b[38;5;250m\u001b[39m\u001b[33;03m\"\"\"Execute the coroutine and return the result.\u001b[39;00m\n\u001b[32m    162\u001b[39m \n\u001b[32m    163\u001b[39m \u001b[33;03mThis function runs the passed coroutine, taking care of\u001b[39;00m\n\u001b[32m   (...)\u001b[39m\u001b[32m    187\u001b[39m \u001b[33;03m    asyncio.run(main())\u001b[39;00m\n\u001b[32m    188\u001b[39m \u001b[33;03m\"\"\"\u001b[39;00m\n\u001b[32m    189\u001b[39m \u001b[38;5;28;01mif\u001b[39;00m events._get_running_loop() \u001b[38;5;129;01mis\u001b[39;00m \u001b[38;5;129;01mnot\u001b[39;00m \u001b[38;5;28;01mNone\u001b[39;00m:\n\u001b[32m    190\u001b[39m     \u001b[38;5;66;03m# fail fast with short traceback\u001b[39;00m\n\u001b[32m--> \u001b[39m\u001b[32m191\u001b[39m     \u001b[38;5;28;01mraise\u001b[39;00m \u001b[38;5;167;01mRuntimeError\u001b[39;00m(\n\u001b[32m    192\u001b[39m         \u001b[33m\"\u001b[39m\u001b[33masyncio.run() cannot be called from a running event loop\u001b[39m\u001b[33m\"\u001b[39m)\n\u001b[32m    194\u001b[39m \u001b[38;5;28;01mwith\u001b[39;00m Runner(debug=debug, loop_factory=loop_factory) \u001b[38;5;28;01mas\u001b[39;00m runner:\n\u001b[32m    195\u001b[39m     \u001b[38;5;28;01mreturn\u001b[39;00m runner.run(main)\n",
      "\u001b[31mRuntimeError\u001b[39m: asyncio.run() cannot be called from a running event loop"
     ]
    }
   ],
   "source": [
    "from arctrl.arc import ARC\n",
    "from arctrl.arctrl import ArcInvestigation, ArcStudy, Person\n",
    "from arctrl.arctrl import JsonController\n",
    "import json\n",
    "\n",
    "# Path where the ARC should be created\n",
    "arcPath = \"template-arc\"\n",
    "\n",
    "# Contacts\n",
    "persons = [\n",
    "  Person(first_name = \"Viola\", last_name = \"Canina\"),\n",
    "  Person(first_name = \"Jasmine\", last_name = \"Beetroot\", mid_initials = \"L\")\n",
    "]\n",
    "\n",
    "# Investigation\n",
    "inv = ArcInvestigation(\n",
    "    identifier = \"AthalianaColdStressSugar\",\n",
    "    title = \"Arabidopsis thaliana cold acclimation\",\n",
    "    contacts = persons\n",
    "    )\n",
    "\n",
    "# Paths to study SOP(s) of type ARCtrl.json\n",
    "studyJsonPaths = [\n",
    "    \"PlantGrowth.arctrl.json\"\n",
    "  ]\n",
    "\n",
    "# Paths to assay SOP(s) of type ARCtrl.json\n",
    "assayJsonPaths = [\n",
    "    \"ProtDigest-Trypsin.arctrl.json\"\n",
    "  ]\n",
    "\n",
    "# Add study\n",
    "\n",
    "def addStudyFromJson (studyJsonPath): \n",
    "  \n",
    "  with open(studyJsonPath) as f:\n",
    "    studyJsonString = json.dumps(json.load(f))\n",
    "\n",
    "  studyFromJson = JsonController.Study().from_json_string(studyJsonString)\n",
    "\n",
    "  inv.add_study(studyFromJson)\n",
    "\n",
    "for s in studyJsonPaths:\n",
    "  addStudyFromJson(s)\n",
    "\n",
    "# Add assay\n",
    "\n",
    "def addAssayFromJson (assayJsonPath):\n",
    "  \n",
    "  with open(assayJsonPath) as f:\n",
    "    assayJsonString = json.dumps(json.load(f))\n",
    "\n",
    "  assayFromJson = JsonController.Study().from_json_string(assayJsonString)\n",
    "\n",
    "  inv.add_assay(assayFromJson)\n",
    "\n",
    "for a in assayJsonPaths:\n",
    "  addAssayFromJson(a)\n",
    "\n",
    "# Create ARC\n",
    "\n",
    "arc = ARC( isa = inv )\n",
    "\n",
    "# Write ARC to path\n",
    "\n",
    "arc.Write(\"test\")\n"
   ]
  }
 ],
 "metadata": {
  "kernelspec": {
   "display_name": "base",
   "language": "python",
   "name": "python3"
  },
  "language_info": {
   "codemirror_mode": {
    "name": "ipython",
    "version": 3
   },
   "file_extension": ".py",
   "mimetype": "text/x-python",
   "name": "python",
   "nbconvert_exporter": "python",
   "pygments_lexer": "ipython3",
   "version": "3.12.9"
  }
 },
 "nbformat": 4,
 "nbformat_minor": 5
}
